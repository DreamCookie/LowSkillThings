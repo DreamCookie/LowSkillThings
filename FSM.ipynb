{
 "cells": [
  {
   "cell_type": "code",
   "execution_count": 116,
   "id": "897e4e6b",
   "metadata": {},
   "outputs": [],
   "source": [
    "class RegexFSM:\n",
    "    def __init__(self):\n",
    "        self.start = self._create_start()\n",
    "        self.q1 = self._create_q1()\n",
    "        self.q2 = self._create_q2()\n",
    "        self.q3 = self._create_q3()\n",
    "        \n",
    "        self.current_state = self.start\n",
    "        self.stopped = False\n",
    "        \n",
    "    def send(self, char):\n",
    "        try:\n",
    "            self.current_state.send(char)\n",
    "        except StopIteration:\n",
    "            self.stopped = True\n",
    "        \n",
    "    def does_match(self):\n",
    "        if self.stopped:\n",
    "            return False\n",
    "        return self.current_state == self.q3\n",
    "\n",
    "    \n",
    "    def _create_start(self):\n",
    "        while True:\n",
    "            char = yield\n",
    "            if char == 'a':\n",
    "                self.current_state = self.q1\n",
    "            else:\n",
    "                break\n",
    "    \n",
    "    \n",
    "    def _create_q1(self):\n",
    "        while True:\n",
    "            char = yield\n",
    "            if char == 'b':\n",
    "                self.current_state = self.q2\n",
    "            elif char == 'c':\n",
    "                self.current_state = self.q3\n",
    "            else:\n",
    "                break\n",
    "\n",
    "    \n",
    "    def _create_q2(self):\n",
    "        while True:\n",
    "            char = yield\n",
    "            if char == 'b':\n",
    "                self.current_state = self.q2\n",
    "            elif char == 'c':\n",
    "                self.current_state = self.q3\n",
    "            else:\n",
    "                break\n",
    "\n",
    "    \n",
    "    def _create_q3(self):\n",
    "        while True:\n",
    "            char = yield\n",
    "            break"
   ]
  },
  {
   "cell_type": "code",
   "execution_count": 117,
   "id": "ae405db5",
   "metadata": {},
   "outputs": [],
   "source": [
    "def grep_regex(text):\n",
    "    evaluator = RegexFSM()\n",
    "    for ch in text:\n",
    "        evaluator.send(ch)\n",
    "    return evaluator.does_match()"
   ]
  },
  {
   "cell_type": "code",
   "execution_count": 118,
   "id": "49c9d475",
   "metadata": {},
   "outputs": [
    {
     "ename": "TypeError",
     "evalue": "can't send non-None value to a just-started generator",
     "output_type": "error",
     "traceback": [
      "\u001b[1;31m---------------------------------------------------------------------------\u001b[0m",
      "\u001b[1;31mTypeError\u001b[0m                                 Traceback (most recent call last)",
      "\u001b[1;32m<ipython-input-118-d5704cd27b59>\u001b[0m in \u001b[0;36m<module>\u001b[1;34m\u001b[0m\n\u001b[1;32m----> 1\u001b[1;33m \u001b[0mgrep_regex\u001b[0m\u001b[1;33m(\u001b[0m\u001b[1;34m\"a\"\u001b[0m\u001b[1;33m)\u001b[0m\u001b[1;33m\u001b[0m\u001b[1;33m\u001b[0m\u001b[0m\n\u001b[0m",
      "\u001b[1;32m<ipython-input-117-a77b19a6345e>\u001b[0m in \u001b[0;36mgrep_regex\u001b[1;34m(text)\u001b[0m\n\u001b[0;32m      2\u001b[0m     \u001b[0mevaluator\u001b[0m \u001b[1;33m=\u001b[0m \u001b[0mRegexFSM\u001b[0m\u001b[1;33m(\u001b[0m\u001b[1;33m)\u001b[0m\u001b[1;33m\u001b[0m\u001b[1;33m\u001b[0m\u001b[0m\n\u001b[0;32m      3\u001b[0m     \u001b[1;32mfor\u001b[0m \u001b[0mch\u001b[0m \u001b[1;32min\u001b[0m \u001b[0mtext\u001b[0m\u001b[1;33m:\u001b[0m\u001b[1;33m\u001b[0m\u001b[1;33m\u001b[0m\u001b[0m\n\u001b[1;32m----> 4\u001b[1;33m         \u001b[0mevaluator\u001b[0m\u001b[1;33m.\u001b[0m\u001b[0msend\u001b[0m\u001b[1;33m(\u001b[0m\u001b[0mch\u001b[0m\u001b[1;33m)\u001b[0m\u001b[1;33m\u001b[0m\u001b[1;33m\u001b[0m\u001b[0m\n\u001b[0m\u001b[0;32m      5\u001b[0m     \u001b[1;32mreturn\u001b[0m \u001b[0mevaluator\u001b[0m\u001b[1;33m.\u001b[0m\u001b[0mdoes_match\u001b[0m\u001b[1;33m(\u001b[0m\u001b[1;33m)\u001b[0m\u001b[1;33m\u001b[0m\u001b[1;33m\u001b[0m\u001b[0m\n",
      "\u001b[1;32m<ipython-input-116-ff782160d279>\u001b[0m in \u001b[0;36msend\u001b[1;34m(self, char)\u001b[0m\n\u001b[0;32m     11\u001b[0m     \u001b[1;32mdef\u001b[0m \u001b[0msend\u001b[0m\u001b[1;33m(\u001b[0m\u001b[0mself\u001b[0m\u001b[1;33m,\u001b[0m \u001b[0mchar\u001b[0m\u001b[1;33m)\u001b[0m\u001b[1;33m:\u001b[0m\u001b[1;33m\u001b[0m\u001b[1;33m\u001b[0m\u001b[0m\n\u001b[0;32m     12\u001b[0m         \u001b[1;32mtry\u001b[0m\u001b[1;33m:\u001b[0m\u001b[1;33m\u001b[0m\u001b[1;33m\u001b[0m\u001b[0m\n\u001b[1;32m---> 13\u001b[1;33m             \u001b[0mself\u001b[0m\u001b[1;33m.\u001b[0m\u001b[0mcurrent_state\u001b[0m\u001b[1;33m.\u001b[0m\u001b[0msend\u001b[0m\u001b[1;33m(\u001b[0m\u001b[0mchar\u001b[0m\u001b[1;33m)\u001b[0m\u001b[1;33m\u001b[0m\u001b[1;33m\u001b[0m\u001b[0m\n\u001b[0m\u001b[0;32m     14\u001b[0m         \u001b[1;32mexcept\u001b[0m \u001b[0mStopIteration\u001b[0m\u001b[1;33m:\u001b[0m\u001b[1;33m\u001b[0m\u001b[1;33m\u001b[0m\u001b[0m\n\u001b[0;32m     15\u001b[0m             \u001b[0mself\u001b[0m\u001b[1;33m.\u001b[0m\u001b[0mstopped\u001b[0m \u001b[1;33m=\u001b[0m \u001b[1;32mTrue\u001b[0m\u001b[1;33m\u001b[0m\u001b[1;33m\u001b[0m\u001b[0m\n",
      "\u001b[1;31mTypeError\u001b[0m: can't send non-None value to a just-started generator"
     ]
    }
   ],
   "source": [
    "grep_regex(\"a\")"
   ]
  },
  {
   "cell_type": "code",
   "execution_count": null,
   "id": "49a440bf",
   "metadata": {},
   "outputs": [],
   "source": []
  }
 ],
 "metadata": {
  "kernelspec": {
   "display_name": "Python 3",
   "language": "python",
   "name": "python3"
  },
  "language_info": {
   "codemirror_mode": {
    "name": "ipython",
    "version": 3
   },
   "file_extension": ".py",
   "mimetype": "text/x-python",
   "name": "python",
   "nbconvert_exporter": "python",
   "pygments_lexer": "ipython3",
   "version": "3.8.8"
  }
 },
 "nbformat": 4,
 "nbformat_minor": 5
}
